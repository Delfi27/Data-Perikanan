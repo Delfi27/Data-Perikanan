{
  "nbformat": 4,
  "nbformat_minor": 0,
  "metadata": {
    "colab": {
      "name": "Tugas_Akhir_Kelas_Dasar_Kelompok_9_PSDS.ipynb",
      "provenance": [],
      "collapsed_sections": [],
      "include_colab_link": true
    },
    "kernelspec": {
      "name": "python3",
      "display_name": "Python 3"
    },
    "language_info": {
      "name": "python"
    }
  },
  "cells": [
    {
      "cell_type": "markdown",
      "metadata": {
        "id": "view-in-github",
        "colab_type": "text"
      },
      "source": [
        "<a href=\"https://colab.research.google.com/github/Delfi27/Data-Perikanan/blob/main/Tugas_Akhir_Kelas_Dasar_PSDS.ipynb\" target=\"_parent\"><img src=\"https://colab.research.google.com/assets/colab-badge.svg\" alt=\"Open In Colab\"/></a>"
      ]
    },
    {
      "cell_type": "markdown",
      "metadata": {
        "id": "ncRkusLjr2xp"
      },
      "source": [
        "![alt text](https://github.com/Delfi27/Data-Perikanan/blob/main/FP%20KD.png?raw=true)"
      ]
    },
    {
      "cell_type": "markdown",
      "metadata": {
        "id": "J5oGroynUqsy"
      },
      "source": [
        "# Tugas Akhir Kelas Dasar"
      ]
    },
    {
      "cell_type": "markdown",
      "metadata": {
        "id": "LJ_K5sJ_Utpt"
      },
      "source": [
        "## Identitas\n",
        "Kelompok 9\n",
        "1. Puji Nurun Hidayah|1800015055\n",
        "2. Delfi Wahyu Ekowati|1800015056\n",
        "3. Lanova Ade Rahmadani|1800015088\n",
        "4. Hanifah Septianingrum|1800015101"
      ]
    },
    {
      "cell_type": "markdown",
      "metadata": {
        "id": "C5jwVWKAPky-"
      },
      "source": [
        "# Data Preparation"
      ]
    },
    {
      "cell_type": "code",
      "metadata": {
        "id": "9acekUW5N5wq"
      },
      "source": [
        "import pandas as pd\n",
        "import numpy as np\n",
        "import matplotlib \n",
        "import matplotlib.pyplot as plt\n"
      ],
      "execution_count": null,
      "outputs": []
    },
    {
      "cell_type": "code",
      "metadata": {
        "id": "6blEmBy5J_xd"
      },
      "source": [
        "# Mengimpor Data Frame\n",
        "df1 = pd.read_csv('https://raw.githubusercontent.com/Delfi27/angkakonsumsiikan/main/angkakonsumsiikan.csv')\n",
        "df2 = pd.read_csv('https://raw.githubusercontent.com/Delfi27/Data-Perikanan/main/pembudidayaikannasional.csv')\n",
        "df3 = pd.read_csv('https://raw.githubusercontent.com/Delfi27/Data-Perikanan/main/produksibudidayanasional.csv')\n",
        "df4 = pd.read_csv('https://raw.githubusercontent.com/Delfi27/Data-Perikanan/main/jumlahproduksibenih.csv')\n",
        "df5 = pd.read_csv('https://raw.githubusercontent.com/Delfi27/Data-Perikanan/main/produkolahanikan.csv')\n",
        "df6 = pd.read_csv('https://raw.githubusercontent.com/Delfi27/Data-Perikanan/main/produksiperlakuanikannasional.csv')"
      ],
      "execution_count": null,
      "outputs": []
    },
    {
      "cell_type": "code",
      "metadata": {
        "colab": {
          "base_uri": "https://localhost:8080/"
        },
        "id": "wj4UXyBcYpG0",
        "outputId": "50ae32a4-af48-4e68-bc89-f38b43fcbadc"
      },
      "source": [
        "# Memanggil Data Frame\n",
        "print(df1)\n",
        "print(df2)\n",
        "print(df3)\n",
        "print(df4)\n",
        "print(df5)\n",
        "print(df6)"
      ],
      "execution_count": null,
      "outputs": [
        {
          "output_type": "stream",
          "text": [
            "    ID                          ParamKonsumsiIkan  ...     Nilai            Satuan\n",
            "0    1     Penyediaan ikan untuk konsumsi (total)  ...   7071.93          1000 Ton\n",
            "1    2  Penyediaan ikan untuk konsumsi per kapita  ...     30.95   Kg/Kapita/Tahun\n",
            "2    3                   Konsumsi ikan per kapita  ...     28.00   Kg/Kapita/Tahun\n",
            "3    4   Ketersediaan Kalori per kapita dari ikan  ...     53.00  Kkal/kapita/hari\n",
            "4    5  Ketersediaan Protein per kapita dari ikan  ...      9.53  gram/kapita/hari\n",
            "5    6    Ketersediaan Lemak per kapita dari ikan  ...      1.19  gram/kapita/hari\n",
            "6    7     Penyediaan ikan untuk konsumsi (total)  ...   7754.00          1000 Ton\n",
            "7    8  Penyediaan ikan untuk konsumsi per kapita  ...     33.51   Kg/Kapita/Tahun\n",
            "8    9                   Konsumsi ikan per kapita  ...     29.08   Kg/Kapita/Tahun\n",
            "9   10   Ketersediaan Kalori per kapita dari ikan  ...     58.00  Kkal/kapita/hari\n",
            "10  11  Ketersediaan Protein per kapita dari ikan  ...     10.30  gram/kapita/hari\n",
            "11  12    Ketersediaan Lemak per kapita dari ikan  ...      1.31  gram/kapita/hari\n",
            "12  13     Penyediaan ikan untuk konsumsi (total)  ...   9119.00          1000 Ton\n",
            "13  14  Penyediaan ikan untuk konsumsi per kapita  ...     38.39   Kg/Kapita/Tahun\n",
            "14  15                   Konsumsi ikan per kapita  ...     30.48   Kg/Kapita/Tahun\n",
            "15  16   Ketersediaan Kalori per kapita dari ikan  ...     66.00  Kkal/kapita/hari\n",
            "16  17  Ketersediaan Protein per kapita dari ikan  ...     11.65  gram/kapita/hari\n",
            "17  18    Ketersediaan Lemak per kapita dari ikan  ...      1.53  gram/kapita/hari\n",
            "18  19     Penyediaan ikan untuk konsumsi (total)  ...  10282.00          1000 Ton\n",
            "19  20  Penyediaan ikan untuk konsumsi per kapita  ...     41.95   Kg/Kapita/Tahun\n",
            "20  21                   Konsumsi ikan per kapita  ...     32.25   Kg/Kapita/Tahun\n",
            "21  22   Ketersediaan Kalori per kapita dari ikan  ...     71.00  Kkal/kapita/hari\n",
            "22  23  Ketersediaan Protein per kapita dari ikan  ...     12.57  gram/kapita/hari\n",
            "23  24    Ketersediaan Lemak per kapita dari ikan  ...      1.68  gram/kapita/hari\n",
            "24  25     Penyediaan ikan untuk konsumsi (total)  ...  11589.00          1000 Ton\n",
            "25  26  Penyediaan ikan untuk konsumsi per kapita  ...     46.31   Kg/Kapita/Tahun\n",
            "26  27                   Konsumsi ikan per kapita  ...     33.89   Kg/Kapita/Tahun\n",
            "27  28   Ketersediaan Kalori per kapita dari ikan  ...     78.00  Kkal/kapita/hari\n",
            "28  29  Ketersediaan Protein per kapita dari ikan  ...     13.73  gram/kapita/hari\n",
            "29  30    Ketersediaan Lemak per kapita dari ikan  ...      1.88  gram/kapita/hari\n",
            "\n",
            "[30 rows x 5 columns]\n",
            "      ID  ProvinsiID    NamaProvinsi  BudidayaID        Budidaya  Tahun  Jumlah\n",
            "0      1          11            Aceh           0  semua budidaya   2002   30959\n",
            "1      2          12  Sumatera Utara           0  semua budidaya   2002   49553\n",
            "2      3          13  Sumatera Barat           0  semua budidaya   2002  103354\n",
            "3      4          14            Riau           0  semua budidaya   2002   39488\n",
            "4      5          15           Jambi           0  semua budidaya   2002   25171\n",
            "..   ...         ...             ...         ...             ...    ...     ...\n",
            "358  359          76  Sulawesi Barat           0  semua budidaya   2012   68469\n",
            "359  360          81          Maluku           0  semua budidaya   2012   54870\n",
            "360  361          82    Maluku Utara           0  semua budidaya   2012    6020\n",
            "361  362          91     Papua Barat           0  semua budidaya   2012   14547\n",
            "362  363          94           Papua           0  semua budidaya   2012   15678\n",
            "\n",
            "[363 rows x 7 columns]\n",
            "        ID  ProvinsiID    NamaProvinsi  ... Volume         Nilai  IkanID\n",
            "0        1          11            Aceh  ...  33877  6.303674e+08       0\n",
            "1        2          12  Sumatera Utara  ...  44187  1.111789e+09       0\n",
            "2        3          13  Sumatera Barat  ...  30690  2.545988e+08       0\n",
            "3        4          14            Riau  ...  36393  1.151402e+09       0\n",
            "4        5          15           Jambi  ...   9358  1.153666e+08       0\n",
            "...    ...         ...             ...  ...    ...           ...     ...\n",
            "4615  4649          76  Sulawesi Barat  ...     85  8.457500e+05      31\n",
            "4616  4650          81          Maluku  ...    566  3.796878e+08      31\n",
            "4617  4651          82    Maluku Utara  ...     83  1.245000e+06      31\n",
            "4618  4652          91     Papua Barat  ...    271  6.700200e+07      31\n",
            "4619  4653          94           Papua  ...    235  1.027240e+07      31\n",
            "\n",
            "[4620 rows x 9 columns]\n",
            "      ID           Benih               Budidaya  Tahun    Jumlah\n",
            "0      1   bandeng <5 cm        budidaya tambak   2001  23646690\n",
            "1      2   bandeng >5 cm        budidaya tambak   2001   5205005\n",
            "2      3     udang windu        budidaya tambak   2001  19021171\n",
            "3      4     udang putih        budidaya tambak   2001   2732715\n",
            "4      5  udang vannamei        budidaya tambak   2001         0\n",
            "..   ...             ...                    ...    ...       ...\n",
            "446  447      semua ikan        budidaya tambak   2012  28966844\n",
            "447  448      semua ikan         budidaya kolam   2012  10795957\n",
            "448  449      semua ikan       budidaya karamba   2012   1182416\n",
            "449  450      semua ikan  budidaya jaring apung   2012   2718598\n",
            "450  451      semua ikan      budidaya minapadi   2012    573742\n",
            "\n",
            "[451 rows x 5 columns]\n",
            "        ID  ProvinsiID       NamaProvinsi  ... Tahun  Volume OlahanID\n",
            "0        1          11               Aceh  ...  2001    8640        0\n",
            "1        2          12     Sumatera Utara  ...  2001  151576        0\n",
            "2        3          13     Sumatera Barat  ...  2001   17831        0\n",
            "3        4          14               Riau  ...  2001   52833        0\n",
            "4        5          21     Kepulauan Riau  ...  2001       0        0\n",
            "...    ...         ...                ...  ...   ...     ...      ...\n",
            "6331  5804          74  Sulawesi Tenggara  ...  2011       0        8\n",
            "6332  5805          81             Maluku  ...  2011       0        8\n",
            "6333  5806          82       Maluku Utara  ...  2011       0        8\n",
            "6334  5807          91        Papua Barat  ...  2011       9        8\n",
            "6335  5808          94              Papua  ...  2011       0        8\n",
            "\n",
            "[6336 rows x 9 columns]\n",
            "        ID  ProvinsiID       NamaProvinsi  ... JenisPerairan Tahun  Volume\n",
            "0        1          11               Aceh  ...          Laut  2001  102824\n",
            "1        2          12     Sumatera Utara  ...          Laut  2001  341325\n",
            "2        3          13     Sumatera Barat  ...          Laut  2001  100880\n",
            "3        4          14               Riau  ...          Laut  2001  301519\n",
            "4        5          21     Kepulauan Riau  ...          Laut  2001       0\n",
            "...    ...         ...                ...  ...           ...   ...     ...\n",
            "7123  6530          74  Sulawesi Tenggara  ...          Umum  2011       0\n",
            "7124  6531          81             Maluku  ...          Umum  2011       0\n",
            "7125  6532          82       Maluku Utara  ...          Umum  2011       0\n",
            "7126  6533          91        Papua Barat  ...          Umum  2011      12\n",
            "7127  6534          94              Papua  ...          Umum  2011       0\n",
            "\n",
            "[7128 rows x 8 columns]\n"
          ],
          "name": "stdout"
        }
      ]
    },
    {
      "cell_type": "markdown",
      "metadata": {
        "id": "99SrW2dYPgmW"
      },
      "source": [
        "# Report"
      ]
    },
    {
      "cell_type": "markdown",
      "metadata": {
        "id": "FrqeDdCQQpyR"
      },
      "source": [
        "## Report 1: Perbandingan antara penyediaan ikan konsumsi dengan konsumsi ikan yang tiap tahunnya semakin jauh"
      ]
    },
    {
      "cell_type": "code",
      "metadata": {
        "colab": {
          "base_uri": "https://localhost:8080/",
          "height": 202
        },
        "id": "CZ-4zaaNKKJ5",
        "outputId": "d68a436c-76cf-49aa-8532-107f090569d6"
      },
      "source": [
        "data1=pd.DataFrame(df1[(df1['ParamKonsumsiIkan'] == 'Penyediaan ikan untuk konsumsi per kapita')])\n",
        "data1"
      ],
      "execution_count": null,
      "outputs": [
        {
          "output_type": "execute_result",
          "data": {
            "text/html": [
              "<div>\n",
              "<style scoped>\n",
              "    .dataframe tbody tr th:only-of-type {\n",
              "        vertical-align: middle;\n",
              "    }\n",
              "\n",
              "    .dataframe tbody tr th {\n",
              "        vertical-align: top;\n",
              "    }\n",
              "\n",
              "    .dataframe thead th {\n",
              "        text-align: right;\n",
              "    }\n",
              "</style>\n",
              "<table border=\"1\" class=\"dataframe\">\n",
              "  <thead>\n",
              "    <tr style=\"text-align: right;\">\n",
              "      <th></th>\n",
              "      <th>ID</th>\n",
              "      <th>ParamKonsumsiIkan</th>\n",
              "      <th>Tahun</th>\n",
              "      <th>Nilai</th>\n",
              "      <th>Satuan</th>\n",
              "    </tr>\n",
              "  </thead>\n",
              "  <tbody>\n",
              "    <tr>\n",
              "      <th>1</th>\n",
              "      <td>2</td>\n",
              "      <td>Penyediaan ikan untuk konsumsi per kapita</td>\n",
              "      <td>2008</td>\n",
              "      <td>30.95</td>\n",
              "      <td>Kg/Kapita/Tahun</td>\n",
              "    </tr>\n",
              "    <tr>\n",
              "      <th>7</th>\n",
              "      <td>8</td>\n",
              "      <td>Penyediaan ikan untuk konsumsi per kapita</td>\n",
              "      <td>2009</td>\n",
              "      <td>33.51</td>\n",
              "      <td>Kg/Kapita/Tahun</td>\n",
              "    </tr>\n",
              "    <tr>\n",
              "      <th>13</th>\n",
              "      <td>14</td>\n",
              "      <td>Penyediaan ikan untuk konsumsi per kapita</td>\n",
              "      <td>2010</td>\n",
              "      <td>38.39</td>\n",
              "      <td>Kg/Kapita/Tahun</td>\n",
              "    </tr>\n",
              "    <tr>\n",
              "      <th>19</th>\n",
              "      <td>20</td>\n",
              "      <td>Penyediaan ikan untuk konsumsi per kapita</td>\n",
              "      <td>2011</td>\n",
              "      <td>41.95</td>\n",
              "      <td>Kg/Kapita/Tahun</td>\n",
              "    </tr>\n",
              "    <tr>\n",
              "      <th>25</th>\n",
              "      <td>26</td>\n",
              "      <td>Penyediaan ikan untuk konsumsi per kapita</td>\n",
              "      <td>2012</td>\n",
              "      <td>46.31</td>\n",
              "      <td>Kg/Kapita/Tahun</td>\n",
              "    </tr>\n",
              "  </tbody>\n",
              "</table>\n",
              "</div>"
            ],
            "text/plain": [
              "    ID                          ParamKonsumsiIkan  ...  Nilai           Satuan\n",
              "1    2  Penyediaan ikan untuk konsumsi per kapita  ...  30.95  Kg/Kapita/Tahun\n",
              "7    8  Penyediaan ikan untuk konsumsi per kapita  ...  33.51  Kg/Kapita/Tahun\n",
              "13  14  Penyediaan ikan untuk konsumsi per kapita  ...  38.39  Kg/Kapita/Tahun\n",
              "19  20  Penyediaan ikan untuk konsumsi per kapita  ...  41.95  Kg/Kapita/Tahun\n",
              "25  26  Penyediaan ikan untuk konsumsi per kapita  ...  46.31  Kg/Kapita/Tahun\n",
              "\n",
              "[5 rows x 5 columns]"
            ]
          },
          "metadata": {
            "tags": []
          },
          "execution_count": 74
        }
      ]
    },
    {
      "cell_type": "code",
      "metadata": {
        "colab": {
          "base_uri": "https://localhost:8080/",
          "height": 202
        },
        "id": "_ehugHQrPtfB",
        "outputId": "2a94ab08-1c7b-4e87-c39c-c120e8575669"
      },
      "source": [
        "data2=pd.DataFrame(df1[(df1['ParamKonsumsiIkan'] == 'Konsumsi ikan per kapita')])\n",
        "data2"
      ],
      "execution_count": null,
      "outputs": [
        {
          "output_type": "execute_result",
          "data": {
            "text/html": [
              "<div>\n",
              "<style scoped>\n",
              "    .dataframe tbody tr th:only-of-type {\n",
              "        vertical-align: middle;\n",
              "    }\n",
              "\n",
              "    .dataframe tbody tr th {\n",
              "        vertical-align: top;\n",
              "    }\n",
              "\n",
              "    .dataframe thead th {\n",
              "        text-align: right;\n",
              "    }\n",
              "</style>\n",
              "<table border=\"1\" class=\"dataframe\">\n",
              "  <thead>\n",
              "    <tr style=\"text-align: right;\">\n",
              "      <th></th>\n",
              "      <th>ID</th>\n",
              "      <th>ParamKonsumsiIkan</th>\n",
              "      <th>Tahun</th>\n",
              "      <th>Nilai</th>\n",
              "      <th>Satuan</th>\n",
              "    </tr>\n",
              "  </thead>\n",
              "  <tbody>\n",
              "    <tr>\n",
              "      <th>2</th>\n",
              "      <td>3</td>\n",
              "      <td>Konsumsi ikan per kapita</td>\n",
              "      <td>2008</td>\n",
              "      <td>28.00</td>\n",
              "      <td>Kg/Kapita/Tahun</td>\n",
              "    </tr>\n",
              "    <tr>\n",
              "      <th>8</th>\n",
              "      <td>9</td>\n",
              "      <td>Konsumsi ikan per kapita</td>\n",
              "      <td>2009</td>\n",
              "      <td>29.08</td>\n",
              "      <td>Kg/Kapita/Tahun</td>\n",
              "    </tr>\n",
              "    <tr>\n",
              "      <th>14</th>\n",
              "      <td>15</td>\n",
              "      <td>Konsumsi ikan per kapita</td>\n",
              "      <td>2010</td>\n",
              "      <td>30.48</td>\n",
              "      <td>Kg/Kapita/Tahun</td>\n",
              "    </tr>\n",
              "    <tr>\n",
              "      <th>20</th>\n",
              "      <td>21</td>\n",
              "      <td>Konsumsi ikan per kapita</td>\n",
              "      <td>2011</td>\n",
              "      <td>32.25</td>\n",
              "      <td>Kg/Kapita/Tahun</td>\n",
              "    </tr>\n",
              "    <tr>\n",
              "      <th>26</th>\n",
              "      <td>27</td>\n",
              "      <td>Konsumsi ikan per kapita</td>\n",
              "      <td>2012</td>\n",
              "      <td>33.89</td>\n",
              "      <td>Kg/Kapita/Tahun</td>\n",
              "    </tr>\n",
              "  </tbody>\n",
              "</table>\n",
              "</div>"
            ],
            "text/plain": [
              "    ID         ParamKonsumsiIkan  Tahun  Nilai           Satuan\n",
              "2    3  Konsumsi ikan per kapita   2008  28.00  Kg/Kapita/Tahun\n",
              "8    9  Konsumsi ikan per kapita   2009  29.08  Kg/Kapita/Tahun\n",
              "14  15  Konsumsi ikan per kapita   2010  30.48  Kg/Kapita/Tahun\n",
              "20  21  Konsumsi ikan per kapita   2011  32.25  Kg/Kapita/Tahun\n",
              "26  27  Konsumsi ikan per kapita   2012  33.89  Kg/Kapita/Tahun"
            ]
          },
          "metadata": {
            "tags": []
          },
          "execution_count": 75
        }
      ]
    },
    {
      "cell_type": "markdown",
      "metadata": {
        "id": "tHDM68cJQuH9"
      },
      "source": [
        "## Insight 1: Mengapa selisih penyediaan ikan untuk konsumsi dan konsumsi ikan setiap tahunnya semakin besar?"
      ]
    },
    {
      "cell_type": "code",
      "metadata": {
        "colab": {
          "base_uri": "https://localhost:8080/",
          "height": 532
        },
        "id": "PVRfGGqcP0gG",
        "outputId": "480c90fb-b017-4b0a-ea84-33399ba11c2a"
      },
      "source": [
        "fig, ax=plt.subplots(1,1, figsize=(10, 8))\n",
        "x1=data1['Tahun']\n",
        "y1=data1['Nilai']\n",
        "plt.plot(x1,y1,label= \"Penyediaan ikan untuk konsumsi per kapita\")\n",
        "x2=data2['Tahun']\n",
        "y2=data2['Nilai']\n",
        "plt.plot(x2,y2,label= \"Konsumsi ikan per kapita\")\n",
        "plt.xlabel('Tahun')\n",
        "plt.ylabel('ParamKonsumsiIkan')\n",
        "ax.set_title('Angka Konsumsi Ikan Tahun 2008-2012', loc='center', pad=20, fontsize=20, color='blue')\n",
        "plt.legend()\n",
        "plt.show()"
      ],
      "execution_count": null,
      "outputs": [
        {
          "output_type": "display_data",
          "data": {
            "image/png": "[encoded data removed]",
            "text/plain": [
              "<Figure size 720x576 with 1 Axes>"
            ]
          },
          "metadata": {
            "tags": [],
            "needs_background": "light"
          }
        }
      ]
    },
    {
      "cell_type": "markdown",
      "metadata": {
        "id": "Gv2frbA5VHh6"
      },
      "source": [
        "Dari hasil visualisasi data angka konsumsi ikan, perbandingan antara penyediaan ikan untuk konsumsi(per kapita) dengan konsumsi ikan (per kapita) dari tahun ke tahun penyediaan dengan konsumsinya semakin jauh yang dimana harusnya mendekati. Kemungkinan jumlah hasil ikannya lebih banyak tetapi yang dikonsumsi lebih rendah. Maka bisa dikatakan banyak ikan yang tidak terjual, dan dapat menyebabkan turunnya pengghasilan"
      ]
    },
    {
      "cell_type": "markdown",
      "metadata": {
        "id": "kpvRweEqQGU1"
      },
      "source": [
        "## Report 2: 3 provinsi dengan jumlah pembudidaya ikan tertinggi"
      ]
    },
    {
      "cell_type": "code",
      "metadata": {
        "colab": {
          "base_uri": "https://localhost:8080/",
          "height": 1000
        },
        "id": "dL_1qvsfRbnV",
        "outputId": "9b265489-5a66-42d6-e7fa-cd6e926008dd"
      },
      "source": [
        "provinsi = df2.groupby('NamaProvinsi')['Jumlah'].sum().reset_index()\n",
        "provinsi"
      ],
      "execution_count": null,
      "outputs": [
        {
          "output_type": "execute_result",
          "data": {
            "text/html": [
              "<div>\n",
              "<style scoped>\n",
              "    .dataframe tbody tr th:only-of-type {\n",
              "        vertical-align: middle;\n",
              "    }\n",
              "\n",
              "    .dataframe tbody tr th {\n",
              "        vertical-align: top;\n",
              "    }\n",
              "\n",
              "    .dataframe thead th {\n",
              "        text-align: right;\n",
              "    }\n",
              "</style>\n",
              "<table border=\"1\" class=\"dataframe\">\n",
              "  <thead>\n",
              "    <tr style=\"text-align: right;\">\n",
              "      <th></th>\n",
              "      <th>NamaProvinsi</th>\n",
              "      <th>Jumlah</th>\n",
              "    </tr>\n",
              "  </thead>\n",
              "  <tbody>\n",
              "    <tr>\n",
              "      <th>0</th>\n",
              "      <td>Aceh</td>\n",
              "      <td>736499</td>\n",
              "    </tr>\n",
              "    <tr>\n",
              "      <th>1</th>\n",
              "      <td>Bali</td>\n",
              "      <td>313281</td>\n",
              "    </tr>\n",
              "    <tr>\n",
              "      <th>2</th>\n",
              "      <td>Banten</td>\n",
              "      <td>469108</td>\n",
              "    </tr>\n",
              "    <tr>\n",
              "      <th>3</th>\n",
              "      <td>Bengkulu</td>\n",
              "      <td>152941</td>\n",
              "    </tr>\n",
              "    <tr>\n",
              "      <th>4</th>\n",
              "      <td>DI Yogyakarta</td>\n",
              "      <td>1022353</td>\n",
              "    </tr>\n",
              "    <tr>\n",
              "      <th>5</th>\n",
              "      <td>DKI Jakarta</td>\n",
              "      <td>43920</td>\n",
              "    </tr>\n",
              "    <tr>\n",
              "      <th>6</th>\n",
              "      <td>Gorontalo</td>\n",
              "      <td>91575</td>\n",
              "    </tr>\n",
              "    <tr>\n",
              "      <th>7</th>\n",
              "      <td>Jambi</td>\n",
              "      <td>373343</td>\n",
              "    </tr>\n",
              "    <tr>\n",
              "      <th>8</th>\n",
              "      <td>Jawa Barat</td>\n",
              "      <td>8003393</td>\n",
              "    </tr>\n",
              "    <tr>\n",
              "      <th>9</th>\n",
              "      <td>Jawa Tengah</td>\n",
              "      <td>5341299</td>\n",
              "    </tr>\n",
              "    <tr>\n",
              "      <th>10</th>\n",
              "      <td>Jawa Timur</td>\n",
              "      <td>2506203</td>\n",
              "    </tr>\n",
              "    <tr>\n",
              "      <th>11</th>\n",
              "      <td>Kalimantan Barat</td>\n",
              "      <td>393312</td>\n",
              "    </tr>\n",
              "    <tr>\n",
              "      <th>12</th>\n",
              "      <td>Kalimantan Selatan</td>\n",
              "      <td>208763</td>\n",
              "    </tr>\n",
              "    <tr>\n",
              "      <th>13</th>\n",
              "      <td>Kalimantan Tengah</td>\n",
              "      <td>291593</td>\n",
              "    </tr>\n",
              "    <tr>\n",
              "      <th>14</th>\n",
              "      <td>Kalimantan Timur</td>\n",
              "      <td>595749</td>\n",
              "    </tr>\n",
              "    <tr>\n",
              "      <th>15</th>\n",
              "      <td>Kepulauan Bangka Belitung</td>\n",
              "      <td>26927</td>\n",
              "    </tr>\n",
              "    <tr>\n",
              "      <th>16</th>\n",
              "      <td>Kepulauan Riau</td>\n",
              "      <td>116986</td>\n",
              "    </tr>\n",
              "    <tr>\n",
              "      <th>17</th>\n",
              "      <td>Lampung</td>\n",
              "      <td>919329</td>\n",
              "    </tr>\n",
              "    <tr>\n",
              "      <th>18</th>\n",
              "      <td>Maluku</td>\n",
              "      <td>151061</td>\n",
              "    </tr>\n",
              "    <tr>\n",
              "      <th>19</th>\n",
              "      <td>Maluku Utara</td>\n",
              "      <td>53971</td>\n",
              "    </tr>\n",
              "    <tr>\n",
              "      <th>20</th>\n",
              "      <td>Nusa Tenggara Barat</td>\n",
              "      <td>417179</td>\n",
              "    </tr>\n",
              "    <tr>\n",
              "      <th>21</th>\n",
              "      <td>Nusa Tenggara Timur</td>\n",
              "      <td>649416</td>\n",
              "    </tr>\n",
              "    <tr>\n",
              "      <th>22</th>\n",
              "      <td>Papua</td>\n",
              "      <td>179393</td>\n",
              "    </tr>\n",
              "    <tr>\n",
              "      <th>23</th>\n",
              "      <td>Papua Barat</td>\n",
              "      <td>41073</td>\n",
              "    </tr>\n",
              "    <tr>\n",
              "      <th>24</th>\n",
              "      <td>Riau</td>\n",
              "      <td>553098</td>\n",
              "    </tr>\n",
              "    <tr>\n",
              "      <th>25</th>\n",
              "      <td>Sulawesi Barat</td>\n",
              "      <td>494786</td>\n",
              "    </tr>\n",
              "    <tr>\n",
              "      <th>26</th>\n",
              "      <td>Sulawesi Selatan</td>\n",
              "      <td>1991605</td>\n",
              "    </tr>\n",
              "    <tr>\n",
              "      <th>27</th>\n",
              "      <td>Sulawesi Tengah</td>\n",
              "      <td>469223</td>\n",
              "    </tr>\n",
              "    <tr>\n",
              "      <th>28</th>\n",
              "      <td>Sulawesi Tenggara</td>\n",
              "      <td>593110</td>\n",
              "    </tr>\n",
              "    <tr>\n",
              "      <th>29</th>\n",
              "      <td>Sulawesi Utara</td>\n",
              "      <td>208925</td>\n",
              "    </tr>\n",
              "    <tr>\n",
              "      <th>30</th>\n",
              "      <td>Sumatera Barat</td>\n",
              "      <td>996394</td>\n",
              "    </tr>\n",
              "    <tr>\n",
              "      <th>31</th>\n",
              "      <td>Sumatera Selatan</td>\n",
              "      <td>1268780</td>\n",
              "    </tr>\n",
              "    <tr>\n",
              "      <th>32</th>\n",
              "      <td>Sumatera Utara</td>\n",
              "      <td>801757</td>\n",
              "    </tr>\n",
              "  </tbody>\n",
              "</table>\n",
              "</div>"
            ],
            "text/plain": [
              "                 NamaProvinsi   Jumlah\n",
              "0                        Aceh   736499\n",
              "1                        Bali   313281\n",
              "2                      Banten   469108\n",
              "3                    Bengkulu   152941\n",
              "4               DI Yogyakarta  1022353\n",
              "5                 DKI Jakarta    43920\n",
              "6                   Gorontalo    91575\n",
              "7                       Jambi   373343\n",
              "8                  Jawa Barat  8003393\n",
              "9                 Jawa Tengah  5341299\n",
              "10                 Jawa Timur  2506203\n",
              "11           Kalimantan Barat   393312\n",
              "12         Kalimantan Selatan   208763\n",
              "13          Kalimantan Tengah   291593\n",
              "14           Kalimantan Timur   595749\n",
              "15  Kepulauan Bangka Belitung    26927\n",
              "16             Kepulauan Riau   116986\n",
              "17                    Lampung   919329\n",
              "18                     Maluku   151061\n",
              "19               Maluku Utara    53971\n",
              "20        Nusa Tenggara Barat   417179\n",
              "21        Nusa Tenggara Timur   649416\n",
              "22                      Papua   179393\n",
              "23                Papua Barat    41073\n",
              "24                       Riau   553098\n",
              "25             Sulawesi Barat   494786\n",
              "26           Sulawesi Selatan  1991605\n",
              "27            Sulawesi Tengah   469223\n",
              "28          Sulawesi Tenggara   593110\n",
              "29             Sulawesi Utara   208925\n",
              "30             Sumatera Barat   996394\n",
              "31           Sumatera Selatan  1268780\n",
              "32             Sumatera Utara   801757"
            ]
          },
          "metadata": {
            "tags": []
          },
          "execution_count": 78
        }
      ]
    },
    {
      "cell_type": "code",
      "metadata": {
        "colab": {
          "base_uri": "https://localhost:8080/",
          "height": 141
        },
        "id": "cH3FIvgZRnJp",
        "outputId": "6c98509b-9af7-4e8f-9a42-1b9080e73f77"
      },
      "source": [
        "provinsi.nlargest(3, 'Jumlah')"
      ],
      "execution_count": null,
      "outputs": [
        {
          "output_type": "execute_result",
          "data": {
            "text/html": [
              "<div>\n",
              "<style scoped>\n",
              "    .dataframe tbody tr th:only-of-type {\n",
              "        vertical-align: middle;\n",
              "    }\n",
              "\n",
              "    .dataframe tbody tr th {\n",
              "        vertical-align: top;\n",
              "    }\n",
              "\n",
              "    .dataframe thead th {\n",
              "        text-align: right;\n",
              "    }\n",
              "</style>\n",
              "<table border=\"1\" class=\"dataframe\">\n",
              "  <thead>\n",
              "    <tr style=\"text-align: right;\">\n",
              "      <th></th>\n",
              "      <th>NamaProvinsi</th>\n",
              "      <th>Jumlah</th>\n",
              "    </tr>\n",
              "  </thead>\n",
              "  <tbody>\n",
              "    <tr>\n",
              "      <th>8</th>\n",
              "      <td>Jawa Barat</td>\n",
              "      <td>8003393</td>\n",
              "    </tr>\n",
              "    <tr>\n",
              "      <th>9</th>\n",
              "      <td>Jawa Tengah</td>\n",
              "      <td>5341299</td>\n",
              "    </tr>\n",
              "    <tr>\n",
              "      <th>10</th>\n",
              "      <td>Jawa Timur</td>\n",
              "      <td>2506203</td>\n",
              "    </tr>\n",
              "  </tbody>\n",
              "</table>\n",
              "</div>"
            ],
            "text/plain": [
              "   NamaProvinsi   Jumlah\n",
              "8    Jawa Barat  8003393\n",
              "9   Jawa Tengah  5341299\n",
              "10   Jawa Timur  2506203"
            ]
          },
          "metadata": {
            "tags": []
          },
          "execution_count": 79
        }
      ]
    },
    {
      "cell_type": "markdown",
      "metadata": {
        "id": "TMBX8WNcRr0P"
      },
      "source": [
        "## Insight 2: Faktor apa yang mempengaruhi provinsi tersebut mendapat jumlah budidaya ikan paling tinggi?"
      ]
    },
    {
      "cell_type": "code",
      "metadata": {
        "colab": {
          "base_uri": "https://localhost:8080/",
          "height": 745
        },
        "id": "2W23mgC_S8Hk",
        "outputId": "7b847406-540d-4b6b-94e3-ff064d2c15bf"
      },
      "source": [
        "# Data\n",
        "prov = np.array(provinsi.NamaProvinsi)\n",
        "jumlah  = np.array(provinsi.Jumlah)\n",
        "\n",
        "# Menentukan spesifikasi figure dan axed\n",
        "fig, ax = plt.subplots(1,1, figsize=(10,12))\n",
        " \n",
        "# Horizontal Bar Plot\n",
        "ax.barh(prov, jumlah)\n",
        " \n",
        "# Melabeli sumbu x\n",
        "ax.set_xlabel('Jumlah')\n",
        " \n",
        "# Melabeli sumbu y\n",
        "ax.set_ylabel('Nama Provinsi')\n",
        " \n",
        "# Memberi nama gambar\n",
        "ax.set_title('Pembudidaya Ikan Nasional Tahun 2002-2012', loc='center', pad=20, fontsize=15, color='blue')\n",
        " \n",
        "# Menampilkan Visualisasi\n",
        "plt.show()"
      ],
      "execution_count": null,
      "outputs": [
        {
          "output_type": "display_data",
          "data": {
            "image/png": "[encoded data removed]",
            "text/plain": [
              "<Figure size 720x864 with 1 Axes>"
            ]
          },
          "metadata": {
            "tags": [],
            "needs_background": "light"
          }
        }
      ]
    },
    {
      "cell_type": "markdown",
      "metadata": {
        "id": "k_j-W24vTC5E"
      },
      "source": [
        "Dari hasil visualisasi data pembudidaya ikan nasional, jika dilihat berdasarkan provinsi dan jumlah, menghasilkan 3 provinsi dengan jumlah pembudidaya tertinggi yaitu jawa barat, jawa tengah, dan jawa timur.\n",
        "Selain hutan mangrove (hutan bakau) dan terumbu karang, salah satu potensi kemaritiman Indonesia atau potensi sumber daya laut Indonesia adalah perikanan.\n",
        "Selain ikan yang tersedia di lautan, penduduk Indonesia juga melakukan budi daya ikan terutama di daerah pesisir.\n",
        "Di pantai utara Pulau Jawa, banyak masyarakat mengembangkan usaha budi daya ikan dengan tambak.\n",
        "Jenis ikan yang dikembangbiakkan di tambak adalah ikan bandeng dan udang"
      ]
    },
    {
      "cell_type": "markdown",
      "metadata": {
        "id": "mIGiaUpSTP4g"
      },
      "source": [
        "## Report 3: ikan kakap mendapat volume terendah"
      ]
    },
    {
      "cell_type": "code",
      "metadata": {
        "colab": {
          "base_uri": "https://localhost:8080/",
          "height": 488
        },
        "id": "ppATz0wsjOTT",
        "outputId": "a678dd79-599a-4949-a28a-4e60a28583af"
      },
      "source": [
        "ikan = df3.groupby('NamaIkan')['Volume'].sum().reset_index()\n",
        "ikan"
      ],
      "execution_count": null,
      "outputs": [
        {
          "output_type": "execute_result",
          "data": {
            "text/html": [
              "<div>\n",
              "<style scoped>\n",
              "    .dataframe tbody tr th:only-of-type {\n",
              "        vertical-align: middle;\n",
              "    }\n",
              "\n",
              "    .dataframe tbody tr th {\n",
              "        vertical-align: top;\n",
              "    }\n",
              "\n",
              "    .dataframe thead th {\n",
              "        text-align: right;\n",
              "    }\n",
              "</style>\n",
              "<table border=\"1\" class=\"dataframe\">\n",
              "  <thead>\n",
              "    <tr style=\"text-align: right;\">\n",
              "      <th></th>\n",
              "      <th>NamaIkan</th>\n",
              "      <th>Volume</th>\n",
              "    </tr>\n",
              "  </thead>\n",
              "  <tbody>\n",
              "    <tr>\n",
              "      <th>0</th>\n",
              "      <td>bandeng</td>\n",
              "      <td>3209877</td>\n",
              "    </tr>\n",
              "    <tr>\n",
              "      <th>1</th>\n",
              "      <td>gurame</td>\n",
              "      <td>427186</td>\n",
              "    </tr>\n",
              "    <tr>\n",
              "      <th>2</th>\n",
              "      <td>kakap</td>\n",
              "      <td>47654</td>\n",
              "    </tr>\n",
              "    <tr>\n",
              "      <th>3</th>\n",
              "      <td>kekerangan</td>\n",
              "      <td>226026</td>\n",
              "    </tr>\n",
              "    <tr>\n",
              "      <th>4</th>\n",
              "      <td>kepiting</td>\n",
              "      <td>68981</td>\n",
              "    </tr>\n",
              "    <tr>\n",
              "      <th>5</th>\n",
              "      <td>kerapu</td>\n",
              "      <td>78084</td>\n",
              "    </tr>\n",
              "    <tr>\n",
              "      <th>6</th>\n",
              "      <td>lainnya</td>\n",
              "      <td>2077312</td>\n",
              "    </tr>\n",
              "    <tr>\n",
              "      <th>7</th>\n",
              "      <td>lele</td>\n",
              "      <td>1633490</td>\n",
              "    </tr>\n",
              "    <tr>\n",
              "      <th>8</th>\n",
              "      <td>mas</td>\n",
              "      <td>2621620</td>\n",
              "    </tr>\n",
              "    <tr>\n",
              "      <th>9</th>\n",
              "      <td>nila</td>\n",
              "      <td>3049011</td>\n",
              "    </tr>\n",
              "    <tr>\n",
              "      <th>10</th>\n",
              "      <td>patin</td>\n",
              "      <td>1073552</td>\n",
              "    </tr>\n",
              "    <tr>\n",
              "      <th>11</th>\n",
              "      <td>rumput laut</td>\n",
              "      <td>25346850</td>\n",
              "    </tr>\n",
              "    <tr>\n",
              "      <th>12</th>\n",
              "      <td>total</td>\n",
              "      <td>43178853</td>\n",
              "    </tr>\n",
              "    <tr>\n",
              "      <th>13</th>\n",
              "      <td>udang total</td>\n",
              "      <td>3344632</td>\n",
              "    </tr>\n",
              "  </tbody>\n",
              "</table>\n",
              "</div>"
            ],
            "text/plain": [
              "       NamaIkan    Volume\n",
              "0       bandeng   3209877\n",
              "1        gurame    427186\n",
              "2         kakap     47654\n",
              "3    kekerangan    226026\n",
              "4      kepiting     68981\n",
              "5        kerapu     78084\n",
              "6       lainnya   2077312\n",
              "7          lele   1633490\n",
              "8           mas   2621620\n",
              "9          nila   3049011\n",
              "10        patin   1073552\n",
              "11  rumput laut  25346850\n",
              "12        total  43178853\n",
              "13  udang total   3344632"
            ]
          },
          "metadata": {
            "tags": []
          },
          "execution_count": 5
        }
      ]
    },
    {
      "cell_type": "code",
      "metadata": {
        "colab": {
          "base_uri": "https://localhost:8080/",
          "height": 144
        },
        "id": "oHTnlgC0j2ss",
        "outputId": "56f097c8-f8e7-49a4-becf-e1ff01e0634f"
      },
      "source": [
        "ikan.nsmallest(3, 'Volume')"
      ],
      "execution_count": null,
      "outputs": [
        {
          "output_type": "execute_result",
          "data": {
            "text/html": [
              "<div>\n",
              "<style scoped>\n",
              "    .dataframe tbody tr th:only-of-type {\n",
              "        vertical-align: middle;\n",
              "    }\n",
              "\n",
              "    .dataframe tbody tr th {\n",
              "        vertical-align: top;\n",
              "    }\n",
              "\n",
              "    .dataframe thead th {\n",
              "        text-align: right;\n",
              "    }\n",
              "</style>\n",
              "<table border=\"1\" class=\"dataframe\">\n",
              "  <thead>\n",
              "    <tr style=\"text-align: right;\">\n",
              "      <th></th>\n",
              "      <th>NamaIkan</th>\n",
              "      <th>Volume</th>\n",
              "    </tr>\n",
              "  </thead>\n",
              "  <tbody>\n",
              "    <tr>\n",
              "      <th>2</th>\n",
              "      <td>kakap</td>\n",
              "      <td>47654</td>\n",
              "    </tr>\n",
              "    <tr>\n",
              "      <th>4</th>\n",
              "      <td>kepiting</td>\n",
              "      <td>68981</td>\n",
              "    </tr>\n",
              "    <tr>\n",
              "      <th>5</th>\n",
              "      <td>kerapu</td>\n",
              "      <td>78084</td>\n",
              "    </tr>\n",
              "  </tbody>\n",
              "</table>\n",
              "</div>"
            ],
            "text/plain": [
              "   NamaIkan  Volume\n",
              "2     kakap   47654\n",
              "4  kepiting   68981\n",
              "5    kerapu   78084"
            ]
          },
          "metadata": {
            "tags": []
          },
          "execution_count": 6
        }
      ]
    },
    {
      "cell_type": "markdown",
      "metadata": {
        "id": "mKX_a51uT_Qt"
      },
      "source": [
        "## Insight 3: Mengapa Ikan kakap bisa mendapat volume yang terendah?"
      ]
    },
    {
      "cell_type": "code",
      "metadata": {
        "colab": {
          "base_uri": "https://localhost:8080/",
          "height": 745
        },
        "id": "UeRutrEOULJe",
        "outputId": "c4d690ad-ca4c-4758-d830-8176d16b7a13"
      },
      "source": [
        "# Data\n",
        "nama = np.array(ikan.NamaIkan)\n",
        "volum = np.array(ikan.Volume)\n",
        "\n",
        "# Menentukan spesifikasi figure dan axed\n",
        "fig, ax = plt.subplots(1,1,figsize=(10,12))\n",
        " \n",
        "# Horizontal Bar Plot\n",
        "ax.barh(nama, volum)\n",
        " \n",
        "# Melabeli sumbu x\n",
        "ax.set_xlabel('Nama Ikan')\n",
        " \n",
        "# Melabeli sumbu y\n",
        "ax.set_ylabel('Volume')\n",
        " \n",
        "# Memberi nama gambar\n",
        "ax.set_title('Volume Pembudidayaan Ikan Tahun 2003-2012', loc='center', pad=20, fontsize=15, color='blue')\n",
        " \n",
        "# Menampilkan Visualisasi\n",
        "plt.show()"
      ],
      "execution_count": null,
      "outputs": [
        {
          "output_type": "display_data",
          "data": {
            "image/png": "[encoded data removed]",
            "text/plain": [
              "<Figure size 720x864 with 1 Axes>"
            ]
          },
          "metadata": {
            "tags": [],
            "needs_background": "light"
          }
        }
      ]
    },
    {
      "cell_type": "markdown",
      "metadata": {
        "id": "d7pgO6DAURc6"
      },
      "source": [
        "Dari hasil visualisasi data produksi budidaya nasional, jika dilihat berdasarkan nama ikan dan volume, menghasilkan bahwa volume ikan kakap paling rendah.\n",
        "Faktor-faktor yang menyebabkan volume produksi ikan kakap rendah yaitu dilihat dari 2 jenis volume produksi itu sendiri.\n",
        "A. Biaya variabel\n",
        "Komponen biaya yang berubah-ubah sesuai dengan volume produksi yang didapatkan. Jadi, semakin besar volume penjualannya maka makin besar pula biaya yang harus dikeluarkan.\n",
        "B. Biaya tetap\n",
        "Biaya ini senantiasa konstan dan tidak dipengaruhu oleh volume produksi. Jadi,bila volumenya rendah maka biaya tetap tinggi ataupun sebaliknya"
      ]
    },
    {
      "cell_type": "markdown",
      "metadata": {
        "id": "WsjFu5-Imvzw"
      },
      "source": [
        "## Report 4: Produksi Budidaya Benih dengan jumlah tertinggi yaitu pada tahun 2006.    \n"
      ]
    },
    {
      "cell_type": "code",
      "metadata": {
        "colab": {
          "base_uri": "https://localhost:8080/",
          "height": 202
        },
        "id": "Sp3sslhSpaBp",
        "outputId": "6042d1ae-dff7-4813-80f6-ef4e9c779e05"
      },
      "source": [
        "tahun = df4.groupby('Tahun')['Jumlah'].sum().reset_index()\n",
        "tahun.head()"
      ],
      "execution_count": null,
      "outputs": [
        {
          "output_type": "execute_result",
          "data": {
            "text/html": [
              "<div>\n",
              "<style scoped>\n",
              "    .dataframe tbody tr th:only-of-type {\n",
              "        vertical-align: middle;\n",
              "    }\n",
              "\n",
              "    .dataframe tbody tr th {\n",
              "        vertical-align: top;\n",
              "    }\n",
              "\n",
              "    .dataframe thead th {\n",
              "        text-align: right;\n",
              "    }\n",
              "</style>\n",
              "<table border=\"1\" class=\"dataframe\">\n",
              "  <thead>\n",
              "    <tr style=\"text-align: right;\">\n",
              "      <th></th>\n",
              "      <th>Tahun</th>\n",
              "      <th>Jumlah</th>\n",
              "    </tr>\n",
              "  </thead>\n",
              "  <tbody>\n",
              "    <tr>\n",
              "      <th>0</th>\n",
              "      <td>2001</td>\n",
              "      <td>341569214</td>\n",
              "    </tr>\n",
              "    <tr>\n",
              "      <th>1</th>\n",
              "      <td>2003</td>\n",
              "      <td>357697260</td>\n",
              "    </tr>\n",
              "    <tr>\n",
              "      <th>2</th>\n",
              "      <td>2004</td>\n",
              "      <td>1180961672</td>\n",
              "    </tr>\n",
              "    <tr>\n",
              "      <th>3</th>\n",
              "      <td>2005</td>\n",
              "      <td>2055390808</td>\n",
              "    </tr>\n",
              "    <tr>\n",
              "      <th>4</th>\n",
              "      <td>2006</td>\n",
              "      <td>1164875066</td>\n",
              "    </tr>\n",
              "  </tbody>\n",
              "</table>\n",
              "</div>"
            ],
            "text/plain": [
              "   Tahun      Jumlah\n",
              "0   2001   341569214\n",
              "1   2003   357697260\n",
              "2   2004  1180961672\n",
              "3   2005  2055390808\n",
              "4   2006  1164875066"
            ]
          },
          "metadata": {
            "tags": []
          },
          "execution_count": 87
        }
      ]
    },
    {
      "cell_type": "code",
      "metadata": {
        "colab": {
          "base_uri": "https://localhost:8080/",
          "height": 78
        },
        "id": "JbxCgnYPtlVC",
        "outputId": "9a947c5a-a702-4c9f-f894-fdf9590545b0"
      },
      "source": [
        "df4.nlargest(1, 'Jumlah')"
      ],
      "execution_count": null,
      "outputs": [
        {
          "output_type": "execute_result",
          "data": {
            "text/html": [
              "<div>\n",
              "<style scoped>\n",
              "    .dataframe tbody tr th:only-of-type {\n",
              "        vertical-align: middle;\n",
              "    }\n",
              "\n",
              "    .dataframe tbody tr th {\n",
              "        vertical-align: top;\n",
              "    }\n",
              "\n",
              "    .dataframe thead th {\n",
              "        text-align: right;\n",
              "    }\n",
              "</style>\n",
              "<table border=\"1\" class=\"dataframe\">\n",
              "  <thead>\n",
              "    <tr style=\"text-align: right;\">\n",
              "      <th></th>\n",
              "      <th>ID</th>\n",
              "      <th>Benih</th>\n",
              "      <th>Budidaya</th>\n",
              "      <th>Tahun</th>\n",
              "      <th>Jumlah</th>\n",
              "    </tr>\n",
              "  </thead>\n",
              "  <tbody>\n",
              "    <tr>\n",
              "      <th>376</th>\n",
              "      <td>377</td>\n",
              "      <td>semua ikan</td>\n",
              "      <td>budidaya kolam</td>\n",
              "      <td>2006</td>\n",
              "      <td>581339576</td>\n",
              "    </tr>\n",
              "  </tbody>\n",
              "</table>\n",
              "</div>"
            ],
            "text/plain": [
              "      ID       Benih        Budidaya  Tahun     Jumlah\n",
              "376  377  semua ikan  budidaya kolam   2006  581339576"
            ]
          },
          "metadata": {
            "tags": []
          },
          "execution_count": 88
        }
      ]
    },
    {
      "cell_type": "markdown",
      "metadata": {
        "id": "eBOgkXx0nMa0"
      },
      "source": [
        "## Insight 4: Apa faktor yang melatar belakangi jumlah produksi benih pada tahun itu tertinggi?"
      ]
    },
    {
      "cell_type": "code",
      "metadata": {
        "colab": {
          "base_uri": "https://localhost:8080/",
          "height": 736
        },
        "id": "2SzukERqul6T",
        "outputId": "f802b66e-4381-4d71-bef8-30e48566c31a"
      },
      "source": [
        "# Data\n",
        "tahun = np.array(df4.Tahun)\n",
        "jumlah = np.array(df4.Jumlah)\n",
        "\n",
        "# Menentukan spesifikasi figure dan axed\n",
        "fig, ax = plt.subplots(1,1, figsize=(10,12))\n",
        " \n",
        "# Horizontal Bar Plot\n",
        "ax.barh(tahun, jumlah)\n",
        " \n",
        "# Melabeli sumbu x\n",
        "ax.set_xlabel('Jumlah')\n",
        " \n",
        "# Melabeli sumbu y\n",
        "ax.set_ylabel('Tahun')\n",
        " \n",
        "# Memberi nama gambar\n",
        "ax.set_title('JUMLAH PRODUKSI BUDIDAYA BENIH', loc='center', pad=10, fontsize=15, color='red')\n",
        " \n",
        "# Menampilkan Visualisasi\n",
        "plt.show()"
      ],
      "execution_count": null,
      "outputs": [
        {
          "output_type": "display_data",
          "data": {
            "image/png": "[encoded data removed]",
            "text/plain": [
              "<Figure size 720x864 with 1 Axes>"
            ]
          },
          "metadata": {
            "tags": [],
            "needs_background": "light"
          }
        }
      ]
    },
    {
      "cell_type": "markdown",
      "metadata": {
        "id": "GbcR-PBuggYi"
      },
      "source": [
        "Dari hasil visualisasi data tahun tertinggi terdapat pada tahun 2006 dengan jumlah benih 581339578 dengan budidaya kolam. Manfaat budidaya kolam sangat banyak. Diantaranya, dapat mengatur air kolam sehingga sistem sirkulasi pengairan kolam bisa dibuat semaksimal mungkin, baik untuk keperluan pengeringan atau pun perawatan. Selanjutnya untuk penggunaan dalam budidaya ikan kolam juga relatif tahan lama dan mampu bertahan hingga 5-10 tahun kemudian karena dengan menggunakan kolam semen kolam tidak mudah rusak, terkikis maupun berlubang. Dan perawatan pada kolam juga lebih mudah apalagi jika kalian ingin mengatur proses pengeringan pada kolam biasanya lebih cepat dan relatif lebih aman dari predator dan kompetitor alami.\n"
      ]
    },
    {
      "cell_type": "markdown",
      "metadata": {
        "id": "cxxZlaf4npYE"
      },
      "source": [
        "## Report 5: provinsi yang paling banyak mengasilkan produck olahan yaitu Maluku"
      ]
    },
    {
      "cell_type": "code",
      "metadata": {
        "colab": {
          "base_uri": "https://localhost:8080/",
          "height": 202
        },
        "id": "fShAZM9NCleJ",
        "outputId": "5d02e816-fc3c-4d51-cc33-ce24607f4ad4"
      },
      "source": [
        "provinsii= df5.groupby('NamaProvinsi')['Volume'].sum().reset_index()\n",
        "provinsii.head()"
      ],
      "execution_count": null,
      "outputs": [
        {
          "output_type": "execute_result",
          "data": {
            "text/html": [
              "<div>\n",
              "<style scoped>\n",
              "    .dataframe tbody tr th:only-of-type {\n",
              "        vertical-align: middle;\n",
              "    }\n",
              "\n",
              "    .dataframe tbody tr th {\n",
              "        vertical-align: top;\n",
              "    }\n",
              "\n",
              "    .dataframe thead th {\n",
              "        text-align: right;\n",
              "    }\n",
              "</style>\n",
              "<table border=\"1\" class=\"dataframe\">\n",
              "  <thead>\n",
              "    <tr style=\"text-align: right;\">\n",
              "      <th></th>\n",
              "      <th>NamaProvinsi</th>\n",
              "      <th>Volume</th>\n",
              "    </tr>\n",
              "  </thead>\n",
              "  <tbody>\n",
              "    <tr>\n",
              "      <th>0</th>\n",
              "      <td>Aceh</td>\n",
              "      <td>98434</td>\n",
              "    </tr>\n",
              "    <tr>\n",
              "      <th>1</th>\n",
              "      <td>Bali</td>\n",
              "      <td>661896</td>\n",
              "    </tr>\n",
              "    <tr>\n",
              "      <th>2</th>\n",
              "      <td>Banten</td>\n",
              "      <td>252066</td>\n",
              "    </tr>\n",
              "    <tr>\n",
              "      <th>3</th>\n",
              "      <td>Bengkulu</td>\n",
              "      <td>35350</td>\n",
              "    </tr>\n",
              "    <tr>\n",
              "      <th>4</th>\n",
              "      <td>DI Yogyakarta</td>\n",
              "      <td>1642</td>\n",
              "    </tr>\n",
              "  </tbody>\n",
              "</table>\n",
              "</div>"
            ],
            "text/plain": [
              "    NamaProvinsi  Volume\n",
              "0           Aceh   98434\n",
              "1           Bali  661896\n",
              "2         Banten  252066\n",
              "3       Bengkulu   35350\n",
              "4  DI Yogyakarta    1642"
            ]
          },
          "metadata": {
            "tags": []
          },
          "execution_count": 92
        }
      ]
    },
    {
      "cell_type": "code",
      "metadata": {
        "colab": {
          "base_uri": "https://localhost:8080/",
          "height": 202
        },
        "id": "83AVO4YZDD9D",
        "outputId": "99d9e5ba-29bc-4e8f-f59e-24d994bd3d3e"
      },
      "source": [
        "df5.nlargest(5, 'Volume')"
      ],
      "execution_count": null,
      "outputs": [
        {
          "output_type": "execute_result",
          "data": {
            "text/html": [
              "<div>\n",
              "<style scoped>\n",
              "    .dataframe tbody tr th:only-of-type {\n",
              "        vertical-align: middle;\n",
              "    }\n",
              "\n",
              "    .dataframe tbody tr th {\n",
              "        vertical-align: top;\n",
              "    }\n",
              "\n",
              "    .dataframe thead th {\n",
              "        text-align: right;\n",
              "    }\n",
              "</style>\n",
              "<table border=\"1\" class=\"dataframe\">\n",
              "  <thead>\n",
              "    <tr style=\"text-align: right;\">\n",
              "      <th></th>\n",
              "      <th>ID</th>\n",
              "      <th>ProvinsiID</th>\n",
              "      <th>NamaProvinsi</th>\n",
              "      <th>Wilayah</th>\n",
              "      <th>JenisOlahan</th>\n",
              "      <th>JenisPerairan</th>\n",
              "      <th>Tahun</th>\n",
              "      <th>Volume</th>\n",
              "      <th>OlahanID</th>\n",
              "    </tr>\n",
              "  </thead>\n",
              "  <tbody>\n",
              "    <tr>\n",
              "      <th>161</th>\n",
              "      <td>162</td>\n",
              "      <td>81</td>\n",
              "      <td>Maluku</td>\n",
              "      <td>Maluku - Papua</td>\n",
              "      <td>semua</td>\n",
              "      <td>Laut</td>\n",
              "      <td>2005</td>\n",
              "      <td>403227</td>\n",
              "      <td>0</td>\n",
              "    </tr>\n",
              "    <tr>\n",
              "      <th>194</th>\n",
              "      <td>195</td>\n",
              "      <td>81</td>\n",
              "      <td>Maluku</td>\n",
              "      <td>Maluku - Papua</td>\n",
              "      <td>semua</td>\n",
              "      <td>Laut</td>\n",
              "      <td>2006</td>\n",
              "      <td>397138</td>\n",
              "      <td>0</td>\n",
              "    </tr>\n",
              "    <tr>\n",
              "      <th>1976</th>\n",
              "      <td>1977</td>\n",
              "      <td>81</td>\n",
              "      <td>Maluku</td>\n",
              "      <td>Maluku - Papua</td>\n",
              "      <td>ikan beku</td>\n",
              "      <td>Laut</td>\n",
              "      <td>2005</td>\n",
              "      <td>388217</td>\n",
              "      <td>5</td>\n",
              "    </tr>\n",
              "    <tr>\n",
              "      <th>2009</th>\n",
              "      <td>2010</td>\n",
              "      <td>81</td>\n",
              "      <td>Maluku</td>\n",
              "      <td>Maluku - Papua</td>\n",
              "      <td>ikan beku</td>\n",
              "      <td>Laut</td>\n",
              "      <td>2006</td>\n",
              "      <td>367197</td>\n",
              "      <td>5</td>\n",
              "    </tr>\n",
              "    <tr>\n",
              "      <th>128</th>\n",
              "      <td>129</td>\n",
              "      <td>81</td>\n",
              "      <td>Maluku</td>\n",
              "      <td>Maluku - Papua</td>\n",
              "      <td>semua</td>\n",
              "      <td>Laut</td>\n",
              "      <td>2004</td>\n",
              "      <td>342466</td>\n",
              "      <td>0</td>\n",
              "    </tr>\n",
              "  </tbody>\n",
              "</table>\n",
              "</div>"
            ],
            "text/plain": [
              "        ID  ProvinsiID NamaProvinsi  ... Tahun  Volume OlahanID\n",
              "161    162          81       Maluku  ...  2005  403227        0\n",
              "194    195          81       Maluku  ...  2006  397138        0\n",
              "1976  1977          81       Maluku  ...  2005  388217        5\n",
              "2009  2010          81       Maluku  ...  2006  367197        5\n",
              "128    129          81       Maluku  ...  2004  342466        0\n",
              "\n",
              "[5 rows x 9 columns]"
            ]
          },
          "metadata": {
            "tags": []
          },
          "execution_count": 93
        }
      ]
    },
    {
      "cell_type": "markdown",
      "metadata": {
        "id": "vXVRI7bPoLaz"
      },
      "source": [
        "## Insight 5: Faktor Apa yang melatarbelakangi provinsi tersebut menghasilkan macam product?"
      ]
    },
    {
      "cell_type": "code",
      "metadata": {
        "colab": {
          "base_uri": "https://localhost:8080/",
          "height": 745
        },
        "id": "95_V5cUFDkto",
        "outputId": "d3b980ba-047d-4b84-c136-d6a0e1eb70fd"
      },
      "source": [
        "# Data\n",
        "provinsi = np.array(provinsii.NamaProvinsi)\n",
        "volume = np.array(provinsii.Volume)\n",
        "\n",
        "# Menentukan spesifikasi figure dan axed\n",
        "fig, ax = plt.subplots(1,1, figsize=(10,12))\n",
        " \n",
        "# Horizontal Bar Plot\n",
        "ax.barh(provinsi, volume)\n",
        " \n",
        "# Melabeli sumbu x\n",
        "ax.set_xlabel('NamaProvinsi')\n",
        " \n",
        "# Melabeli sumbu y\n",
        "ax.set_ylabel('Volume')\n",
        " \n",
        "# Memberi nama gambar\n",
        "ax.set_title('PRODUK OLAHAN IKAN', loc='center', pad=20, fontsize=15, color='green')\n",
        " \n",
        "# Menampilkan Visualisasi\n",
        "plt.show()"
      ],
      "execution_count": null,
      "outputs": [
        {
          "output_type": "display_data",
          "data": {
            "image/png": "[encoded data removed]",
            "text/plain": [
              "<Figure size 720x864 with 1 Axes>"
            ]
          },
          "metadata": {
            "tags": [],
            "needs_background": "light"
          }
        }
      ]
    },
    {
      "cell_type": "markdown",
      "metadata": {
        "id": "VwsDRu9gg7MI"
      },
      "source": [
        "Karna sektor perikanan merupakan sumber daya alam yang menjanjikan untuk diolah. Terlebih di daerah Maluku. Yang hasil kelautan dan perikanan setiap tahunnya sangat besar"
      ]
    },
    {
      "cell_type": "markdown",
      "metadata": {
        "id": "4R4cLAZpod8p"
      },
      "source": [
        "## Report 6: semua perlakuan efektif digunakan"
      ]
    },
    {
      "cell_type": "code",
      "metadata": {
        "colab": {
          "base_uri": "https://localhost:8080/",
          "height": 202
        },
        "id": "UCcEKupQES6d",
        "outputId": "95090614-2411-4c76-b7ca-978454dffba3"
      },
      "source": [
        "perlakuan = df6.groupby('JenisPerlakuan')['Volume'].sum().reset_index()\n",
        "perlakuan.head()"
      ],
      "execution_count": null,
      "outputs": [
        {
          "output_type": "execute_result",
          "data": {
            "text/html": [
              "<div>\n",
              "<style scoped>\n",
              "    .dataframe tbody tr th:only-of-type {\n",
              "        vertical-align: middle;\n",
              "    }\n",
              "\n",
              "    .dataframe tbody tr th {\n",
              "        vertical-align: top;\n",
              "    }\n",
              "\n",
              "    .dataframe thead th {\n",
              "        text-align: right;\n",
              "    }\n",
              "</style>\n",
              "<table border=\"1\" class=\"dataframe\">\n",
              "  <thead>\n",
              "    <tr style=\"text-align: right;\">\n",
              "      <th></th>\n",
              "      <th>JenisPerlakuan</th>\n",
              "      <th>Volume</th>\n",
              "    </tr>\n",
              "  </thead>\n",
              "  <tbody>\n",
              "    <tr>\n",
              "      <th>0</th>\n",
              "      <td>dipasarkan segar</td>\n",
              "      <td>37481405</td>\n",
              "    </tr>\n",
              "    <tr>\n",
              "      <th>1</th>\n",
              "      <td>pembekuan</td>\n",
              "      <td>7330129</td>\n",
              "    </tr>\n",
              "    <tr>\n",
              "      <th>2</th>\n",
              "      <td>pemindangan</td>\n",
              "      <td>1855528</td>\n",
              "    </tr>\n",
              "    <tr>\n",
              "      <th>3</th>\n",
              "      <td>pengalengan</td>\n",
              "      <td>636225</td>\n",
              "    </tr>\n",
              "    <tr>\n",
              "      <th>4</th>\n",
              "      <td>pengasapan</td>\n",
              "      <td>1321804</td>\n",
              "    </tr>\n",
              "  </tbody>\n",
              "</table>\n",
              "</div>"
            ],
            "text/plain": [
              "     JenisPerlakuan    Volume\n",
              "0  dipasarkan segar  37481405\n",
              "1         pembekuan   7330129\n",
              "2       pemindangan   1855528\n",
              "3       pengalengan    636225\n",
              "4        pengasapan   1321804"
            ]
          },
          "metadata": {
            "tags": []
          },
          "execution_count": 97
        }
      ]
    },
    {
      "cell_type": "code",
      "metadata": {
        "colab": {
          "base_uri": "https://localhost:8080/",
          "height": 202
        },
        "id": "ahEGsBzWEiMh",
        "outputId": "e751323a-2056-42e4-8f50-5fdd3b9ee580"
      },
      "source": [
        "df6.nlargest(5, 'Volume')"
      ],
      "execution_count": null,
      "outputs": [
        {
          "output_type": "execute_result",
          "data": {
            "text/html": [
              "<div>\n",
              "<style scoped>\n",
              "    .dataframe tbody tr th:only-of-type {\n",
              "        vertical-align: middle;\n",
              "    }\n",
              "\n",
              "    .dataframe tbody tr th {\n",
              "        vertical-align: top;\n",
              "    }\n",
              "\n",
              "    .dataframe thead th {\n",
              "        text-align: right;\n",
              "    }\n",
              "</style>\n",
              "<table border=\"1\" class=\"dataframe\">\n",
              "  <thead>\n",
              "    <tr style=\"text-align: right;\">\n",
              "      <th></th>\n",
              "      <th>ID</th>\n",
              "      <th>ProvinsiID</th>\n",
              "      <th>NamaProvinsi</th>\n",
              "      <th>Wilayah</th>\n",
              "      <th>JenisPerlakuan</th>\n",
              "      <th>JenisPerairan</th>\n",
              "      <th>Tahun</th>\n",
              "      <th>Volume</th>\n",
              "    </tr>\n",
              "  </thead>\n",
              "  <tbody>\n",
              "    <tr>\n",
              "      <th>359</th>\n",
              "      <td>360</td>\n",
              "      <td>81</td>\n",
              "      <td>Maluku</td>\n",
              "      <td>Maluku - Papua</td>\n",
              "      <td>semua</td>\n",
              "      <td>Laut</td>\n",
              "      <td>2011</td>\n",
              "      <td>567953</td>\n",
              "    </tr>\n",
              "    <tr>\n",
              "      <th>326</th>\n",
              "      <td>327</td>\n",
              "      <td>81</td>\n",
              "      <td>Maluku</td>\n",
              "      <td>Maluku - Papua</td>\n",
              "      <td>semua</td>\n",
              "      <td>Laut</td>\n",
              "      <td>2010</td>\n",
              "      <td>559000</td>\n",
              "    </tr>\n",
              "    <tr>\n",
              "      <th>2341</th>\n",
              "      <td>6564</td>\n",
              "      <td>81</td>\n",
              "      <td>Maluku</td>\n",
              "      <td>Maluku - Papua</td>\n",
              "      <td>semua</td>\n",
              "      <td>Laut</td>\n",
              "      <td>2012</td>\n",
              "      <td>537262</td>\n",
              "    </tr>\n",
              "    <tr>\n",
              "      <th>2313</th>\n",
              "      <td>6536</td>\n",
              "      <td>12</td>\n",
              "      <td>Sumatera Utara</td>\n",
              "      <td>Sumatera</td>\n",
              "      <td>semua</td>\n",
              "      <td>Laut</td>\n",
              "      <td>2012</td>\n",
              "      <td>510552</td>\n",
              "    </tr>\n",
              "    <tr>\n",
              "      <th>227</th>\n",
              "      <td>228</td>\n",
              "      <td>81</td>\n",
              "      <td>Maluku</td>\n",
              "      <td>Maluku - Papua</td>\n",
              "      <td>semua</td>\n",
              "      <td>Laut</td>\n",
              "      <td>2007</td>\n",
              "      <td>489249</td>\n",
              "    </tr>\n",
              "  </tbody>\n",
              "</table>\n",
              "</div>"
            ],
            "text/plain": [
              "        ID  ProvinsiID    NamaProvinsi  ... JenisPerairan Tahun  Volume\n",
              "359    360          81          Maluku  ...          Laut  2011  567953\n",
              "326    327          81          Maluku  ...          Laut  2010  559000\n",
              "2341  6564          81          Maluku  ...          Laut  2012  537262\n",
              "2313  6536          12  Sumatera Utara  ...          Laut  2012  510552\n",
              "227    228          81          Maluku  ...          Laut  2007  489249\n",
              "\n",
              "[5 rows x 8 columns]"
            ]
          },
          "metadata": {
            "tags": []
          },
          "execution_count": 98
        }
      ]
    },
    {
      "cell_type": "markdown",
      "metadata": {
        "id": "3N4PIY_7onAE"
      },
      "source": [
        "## Insight 6: Apa yang mempengaruhi keefektivan jenis perlakuan yang digunakan?"
      ]
    },
    {
      "cell_type": "code",
      "metadata": {
        "colab": {
          "base_uri": "https://localhost:8080/",
          "height": 745
        },
        "id": "qry3wXLHE8yH",
        "outputId": "97b89fa5-61f9-4aba-f983-5af37b665346"
      },
      "source": [
        "# Data\n",
        "perlakuan = np.array(df6.JenisPerlakuan)\n",
        "volum = np.array(df6.Volume)\n",
        "\n",
        "# Menentukan spesifikasi figure dan axed\n",
        "fig, ax = plt.subplots(1,1, figsize=(10,12))\n",
        " \n",
        "# Horizontal Bar Plot\n",
        "ax.barh(perlakuan, volum)\n",
        " \n",
        "# Melabeli sumbu x\n",
        "ax.set_xlabel('Volume')\n",
        " \n",
        "# Melabeli sumbu y\n",
        "ax.set_ylabel('JenisPerlakuan')\n",
        " \n",
        "# Memberi nama gambar\n",
        "ax.set_title('JUMLAH PRODUKSI PERLAKUAN IKAN', loc='center', pad=20, fontsize=15, color='blue')\n",
        " \n",
        "# Menampilkan Visualisasi\n",
        "plt.show()"
      ],
      "execution_count": null,
      "outputs": [
        {
          "output_type": "display_data",
          "data": {
            "image/png": "[encoded data removed]",
            "text/plain": [
              "<Figure size 720x864 with 1 Axes>"
            ]
          },
          "metadata": {
            "tags": [],
            "needs_background": "light"
          }
        }
      ]
    },
    {
      "cell_type": "markdown",
      "metadata": {
        "id": "ZpijG5LOg_Lu"
      },
      "source": [
        "Berdasarkan visualisasi data yang diperoleh, semua perlakuan efektif digunakan antara lain perlakuan yang dipasarkan segera, dibekukan, pemindangan, pengalengan dan pengasapan. Namun, perlakuan yang paling efektif dengan volume yang terbesar adalah perlakuan yang dipasarkan segera. Lagipula, orang-orang biasanya lebih memilih ikan segar yang dipasarkan langsung daripada ikan sudah terolah"
      ]
    }
  ]
}